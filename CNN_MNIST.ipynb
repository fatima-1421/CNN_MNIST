{
  "nbformat": 4,
  "nbformat_minor": 0,
  "metadata": {
    "colab": {
      "provenance": [],
      "toc_visible": true
    },
    "kernelspec": {
      "name": "python3",
      "display_name": "Python 3"
    },
    "language_info": {
      "name": "python"
    },
    "accelerator": "GPU"
  },
  "cells": [
    {
      "cell_type": "markdown",
      "source": [
        "Fatima Salih      20190744\n",
        "\n",
        "Mohamed Faysal    20190711\n",
        "\n",
        "\n"
      ],
      "metadata": {
        "id": "XbBK1pacKjXm"
      }
    },
    {
      "cell_type": "markdown",
      "source": [
        "# Load the libraries"
      ],
      "metadata": {
        "id": "Eqjz5dEyUtUV"
      }
    },
    {
      "cell_type": "code",
      "source": [
        "import numpy as np\n",
        "from sklearn.model_selection import KFold\n",
        "from keras.datasets import mnist\n",
        "from tensorflow.keras.utils import to_categorical\n",
        "from keras.models import Sequential\n",
        "from keras.layers import Conv2D\n",
        "from keras.layers import MaxPooling2D , AveragePooling2D\n",
        "from keras.layers import Dense , Dropout\n",
        "from keras.layers import Flatten\n",
        "from tensorflow.keras.optimizers import SGD\n",
        "from tensorflow.keras.optimizers import Adam ,RMSprop"
      ],
      "metadata": {
        "id": "6yuw0WfdK5U4"
      },
      "execution_count": null,
      "outputs": []
    },
    {
      "cell_type": "markdown",
      "source": [
        "# Building models with different optimizers"
      ],
      "metadata": {
        "id": "EKJ2AlV4MJeu"
      }
    },
    {
      "cell_type": "code",
      "source": [
        "def Build_model_1(model , train_norm , trainY):\n",
        "  scores , losses = list() , list()\n",
        "  kfold = KFold(5, shuffle=True, random_state=1)\n",
        "\n",
        "  for train_ix, test_ix in kfold.split(train_norm):\n",
        "    opt =SGD(learning_rate=0.01, momentum=0.9)\n",
        "    model.compile(optimizer=opt , loss='categorical_crossentropy', metrics=['accuracy'])\n",
        "\n",
        "    trainXTemp, trainYTemp, testXTemp, testYTemp = train_norm[train_ix], trainY[train_ix], train_norm[test_ix], trainY[test_ix]\n",
        "\n",
        "    model.fit(trainXTemp, trainYTemp, epochs=10, batch_size=128, validation_data=(testXTemp, testYTemp), verbose=0)\n",
        "\n",
        "    loss, acc = model.evaluate(testXTemp, testYTemp, verbose=0)\n",
        "    print('accuracy: %.3f' % (acc * 100.0))\n",
        "    print('loss: %.7f' % (loss))\n",
        "\n",
        "    scores.append(acc)\n",
        "    losses.append(loss)\n",
        "  return scores , losses"
      ],
      "metadata": {
        "id": "zS46Q8vNL3sc"
      },
      "execution_count": null,
      "outputs": []
    },
    {
      "cell_type": "code",
      "source": [
        "def Build_Model_2(model , train_norm , trainY):\n",
        "  scores , losses = list() , list()\n",
        "  kfold = KFold(5, shuffle=True, random_state=1)\n",
        "  for train_ix, test_ix in kfold.split(train_norm):\n",
        "    opt=Adam(lr=0.01, decay=0.00001)\n",
        "    model.compile(optimizer=opt, loss='categorical_crossentropy', metrics=['accuracy'])\n",
        "\n",
        "    trainXTemp, trainYTemp, testXTemp, testYTemp = train_norm[train_ix], trainY[train_ix], train_norm[test_ix], trainY[test_ix]\n",
        "\n",
        "    model.fit(trainXTemp, trainYTemp, epochs=10, batch_size=128, validation_data=(testXTemp, testYTemp), verbose=0)\n",
        "\n",
        "    loss, acc = model.evaluate(testXTemp, testYTemp, verbose=0)\n",
        "    print('accuracy: %.3f' % (acc * 100.0))\n",
        "    print('loss: %.7f' % (loss))\n",
        "\n",
        "    scores.append(acc)\n",
        "    losses.append(loss)\n",
        "  return scores , losses,\n",
        ""
      ],
      "metadata": {
        "id": "irCLGf8eMF8G"
      },
      "execution_count": null,
      "outputs": []
    },
    {
      "cell_type": "code",
      "source": [
        "def Build_Model_3(model , train_norm , trainY):\n",
        "  scores , losses = list() , list()\n",
        "  kfold = KFold(5, shuffle=True, random_state=1)\n",
        "  for train_ix, test_ix in kfold.split(train_norm):\n",
        "    opt=RMSprop(lr=0.001, decay=0.00001)\n",
        "    model.compile(optimizer=opt, loss='categorical_crossentropy', metrics=['accuracy'])\n",
        "\n",
        "    trainXTemp, trainYTemp, testXTemp, testYTemp = train_norm[train_ix], trainY[train_ix], train_norm[test_ix], trainY[test_ix]\n",
        "\n",
        "    model.fit(trainXTemp, trainYTemp, epochs=10, batch_size=128, validation_data=(testXTemp, testYTemp), verbose=0)\n",
        "\n",
        "    loss, acc = model.evaluate(testXTemp, testYTemp, verbose=0)\n",
        "\n",
        "    print('accuracy: %.3f' % (acc * 100.0))\n",
        "    print('loss: %.7f' % (loss))\n",
        "    scores.append(acc)\n",
        "    losses.append(loss)\n",
        "  return scores , losses\n",
        ""
      ],
      "metadata": {
        "id": "Uz2vNV0gNCZH"
      },
      "execution_count": null,
      "outputs": []
    },
    {
      "cell_type": "markdown",
      "source": [
        "# Load the data"
      ],
      "metadata": {
        "id": "WcvP6e_wNH3E"
      }
    },
    {
      "cell_type": "code",
      "source": [
        "(trainX, trainY), (testX, testY) = mnist.load_data()\n",
        "trainX = trainX.reshape((trainX.shape[0], 28, 28, 1))\n",
        "testX = testX.reshape((testX.shape[0], 28, 28, 1))\n",
        "trainY = to_categorical(trainY)\n",
        "testY = to_categorical(testY)\n",
        "train_norm = trainX.astype('float32')\n",
        "test_norm = testX.astype('float32')\n",
        "train_norm = train_norm / 255.0\n",
        "test_norm = test_norm / 255.0"
      ],
      "metadata": {
        "colab": {
          "base_uri": "https://localhost:8080/"
        },
        "id": "ndMz2qKRNM_h",
        "outputId": "448b7073-6736-450a-8042-ad6f419aa206"
      },
      "execution_count": null,
      "outputs": [
        {
          "output_type": "stream",
          "name": "stdout",
          "text": [
            "Downloading data from https://storage.googleapis.com/tensorflow/tf-keras-datasets/mnist.npz\n",
            "11493376/11490434 [==============================] - 0s 0us/step\n",
            "11501568/11490434 [==============================] - 0s 0us/step\n"
          ]
        }
      ]
    },
    {
      "cell_type": "markdown",
      "source": [
        "# Model 1"
      ],
      "metadata": {
        "id": "-fPFXnepNVqZ"
      }
    },
    {
      "cell_type": "code",
      "source": [
        "model_1 = Sequential()\n",
        "model_1.add(Conv2D(64, (2, 2), activation='relu', kernel_initializer='he_uniform', input_shape=(28, 28, 1)))\n",
        "model_1.add(MaxPooling2D((2, 2)))\n",
        "model_1.add(Conv2D(64, (2, 2), activation='relu', kernel_initializer='he_uniform', input_shape=(28, 28, 1)))\n",
        "model_1.add(MaxPooling2D((2, 2)))\n",
        "model_1.add(Conv2D(64, (2, 2), activation='relu', kernel_initializer='he_uniform', input_shape=(28, 28, 1)))\n",
        "model_1.add(MaxPooling2D((2, 2)))\n",
        "model_1.add(Flatten())\n",
        "model_1.add(Dense(100, activation='relu', kernel_initializer='he_uniform'))\n",
        "model_1.add(Dense(10, activation='softmax'))\n",
        "scores , losses = Build_model_1(model_1,train_norm ,trainY)"
      ],
      "metadata": {
        "colab": {
          "base_uri": "https://localhost:8080/"
        },
        "id": "xZMgSs6JNT7_",
        "outputId": "fec938f9-d971-4716-c670-c7dbc4cfc0d2"
      },
      "execution_count": null,
      "outputs": [
        {
          "output_type": "stream",
          "name": "stdout",
          "text": [
            "accuracy: 97.917\n",
            "loss: 0.0654842\n",
            "accuracy: 99.150\n",
            "loss: 0.0269630\n",
            "accuracy: 99.567\n",
            "loss: 0.0126277\n",
            "accuracy: 99.900\n",
            "loss: 0.0027203\n",
            "accuracy: 99.975\n",
            "loss: 0.0010514\n"
          ]
        }
      ]
    },
    {
      "cell_type": "code",
      "source": [
        "model_1 = Sequential()\n",
        "model_1.add(Conv2D(64, (2, 2), activation='relu', kernel_initializer='he_uniform', input_shape=(28, 28, 1)))\n",
        "model_1.add(MaxPooling2D((2, 2)))\n",
        "model_1.add(Conv2D(64, (2, 2), activation='relu', kernel_initializer='he_uniform', input_shape=(28, 28, 1)))\n",
        "model_1.add(MaxPooling2D((2, 2)))\n",
        "model_1.add(Flatten())\n",
        "model_1.add(Dense(100, activation='relu', kernel_initializer='he_uniform'))\n",
        "model_1.add(Dense(10, activation='softmax'))\n",
        "scores , losses = Build_model_1(model_1,train_norm ,trainY)"
      ],
      "metadata": {
        "colab": {
          "base_uri": "https://localhost:8080/"
        },
        "id": "1jE14KL2rb1_",
        "outputId": "53831322-7ccb-470f-b389-73a598ccc73f"
      },
      "execution_count": null,
      "outputs": [
        {
          "output_type": "stream",
          "name": "stdout",
          "text": [
            "accuracy: 98.658\n",
            "loss: 0.0470705\n",
            "accuracy: 99.333\n",
            "loss: 0.0181307\n",
            "accuracy: 99.817\n",
            "loss: 0.0057304\n",
            "accuracy: 99.983\n",
            "loss: 0.0012515\n",
            "accuracy: 100.000\n",
            "loss: 0.0005472\n"
          ]
        }
      ]
    },
    {
      "cell_type": "code",
      "source": [
        "model_1 = Sequential()\n",
        "model_1.add(Conv2D(64, (2, 2), activation='relu', kernel_initializer='he_uniform', input_shape=(28, 28, 1)))\n",
        "model_1.add(MaxPooling2D((2, 2)))\n",
        "model_1.add(Flatten())\n",
        "model_1.add(Dense(100, activation='relu', kernel_initializer='he_uniform'))\n",
        "model_1.add(Dense(10, activation='softmax'))\n",
        "scores , losses = Build_model_1(model_1,train_norm ,trainY)"
      ],
      "metadata": {
        "colab": {
          "base_uri": "https://localhost:8080/"
        },
        "id": "p5fjjbZzwzh8",
        "outputId": "c95d2a85-4d4d-4898-eb44-d476c68051ed"
      },
      "execution_count": null,
      "outputs": [
        {
          "output_type": "stream",
          "name": "stdout",
          "text": [
            "accuracy: 98.025\n",
            "loss: 0.0663515\n",
            "accuracy: 99.208\n",
            "loss: 0.0264444\n",
            "accuracy: 99.675\n",
            "loss: 0.0099402\n",
            "accuracy: 99.950\n",
            "loss: 0.0031479\n",
            "accuracy: 99.975\n",
            "loss: 0.0018670\n"
          ]
        }
      ]
    },
    {
      "cell_type": "markdown",
      "source": [
        "# Model 2"
      ],
      "metadata": {
        "id": "s-5aX08o9vZK"
      }
    },
    {
      "cell_type": "code",
      "source": [
        "model_2 = Sequential()\n",
        "model_2.add(Conv2D(64, (2, 2), activation='tanh', kernel_initializer='he_uniform', input_shape=(28, 28, 1)))\n",
        "model_2.add(MaxPooling2D((2, 2)))\n",
        "model_2.add(Conv2D(64, (2, 2), activation='tanh', kernel_initializer='he_uniform', input_shape=(28, 28, 1)))\n",
        "model_2.add(MaxPooling2D((2, 2)))\n",
        "model_2.add(Conv2D(64, (2, 2), activation='tanh', kernel_initializer='he_uniform', input_shape=(28, 28, 1)))\n",
        "model_2.add(MaxPooling2D((2, 2)))\n",
        "model_2.add(Flatten())\n",
        "model_2.add(Dropout(0.3))\n",
        "model_2.add(Dense(100, activation='tanh', kernel_initializer='he_uniform'))\n",
        "model_2.add(Dense(10, activation='softmax'))\n",
        "\n",
        "scores , losses = Build_Model_2(model_2,train_norm ,trainY)"
      ],
      "metadata": {
        "colab": {
          "base_uri": "https://localhost:8080/"
        },
        "id": "SeFEFRZfzj3G",
        "outputId": "11cc8c20-f914-444f-c42d-688f162b4a7a"
      },
      "execution_count": null,
      "outputs": [
        {
          "output_type": "stream",
          "name": "stderr",
          "text": [
            "/usr/local/lib/python3.7/dist-packages/keras/optimizer_v2/adam.py:105: UserWarning: The `lr` argument is deprecated, use `learning_rate` instead.\n",
            "  super(Adam, self).__init__(name, **kwargs)\n"
          ]
        },
        {
          "output_type": "stream",
          "name": "stdout",
          "text": [
            "accuracy: 96.358\n",
            "loss: 0.1212646\n",
            "accuracy: 95.750\n",
            "loss: 0.1318936\n",
            "accuracy: 96.017\n",
            "loss: 0.1309534\n",
            "accuracy: 96.150\n",
            "loss: 0.1220197\n",
            "accuracy: 96.283\n",
            "loss: 0.1249149\n"
          ]
        }
      ]
    },
    {
      "cell_type": "code",
      "source": [
        "model_2 = Sequential()\n",
        "model_2.add(Conv2D(64, (2, 2), activation='sigmoid', kernel_initializer='he_uniform', input_shape=(28, 28, 1)))\n",
        "model_2.add(MaxPooling2D((2, 2)))\n",
        "model_2.add(Conv2D(64, (2, 2), activation='sigmoid', kernel_initializer='he_uniform', input_shape=(28, 28, 1)))\n",
        "model_2.add(MaxPooling2D((2, 2)))\n",
        "model_2.add(Conv2D(64, (2, 2), activation='sigmoid', kernel_initializer='he_uniform', input_shape=(28, 28, 1)))\n",
        "model_2.add(MaxPooling2D((2, 2)))\n",
        "model_2.add(Flatten())\n",
        "model_2.add(Dropout(0.1))\n",
        "model_2.add(Dense(100, activation='sigmoid', kernel_initializer='he_uniform'))\n",
        "model_2.add(Dense(10, activation='softmax'))\n",
        "\n",
        "scores , losses = Build_Model_2(model_2,train_norm ,trainY)"
      ],
      "metadata": {
        "colab": {
          "base_uri": "https://localhost:8080/"
        },
        "id": "nH4wi7U01dGN",
        "outputId": "e36f981b-b657-4e88-c882-06d97f093608"
      },
      "execution_count": null,
      "outputs": [
        {
          "output_type": "stream",
          "name": "stderr",
          "text": [
            "/usr/local/lib/python3.7/dist-packages/keras/optimizer_v2/adam.py:105: UserWarning: The `lr` argument is deprecated, use `learning_rate` instead.\n",
            "  super(Adam, self).__init__(name, **kwargs)\n"
          ]
        },
        {
          "output_type": "stream",
          "name": "stdout",
          "text": [
            "accuracy: 94.067\n",
            "loss: 0.1907499\n",
            "accuracy: 96.300\n",
            "loss: 0.1228421\n",
            "accuracy: 97.358\n",
            "loss: 0.0865857\n",
            "accuracy: 97.625\n",
            "loss: 0.0806135\n",
            "accuracy: 97.883\n",
            "loss: 0.0695184\n"
          ]
        }
      ]
    },
    {
      "cell_type": "code",
      "source": [
        "model_2 = Sequential()\n",
        "model_2.add(Conv2D(64, (2, 2), activation='relu', kernel_initializer='he_uniform', input_shape=(28, 28, 1)))\n",
        "model_2.add(MaxPooling2D((2, 2)))\n",
        "model_2.add(Conv2D(64, (2, 2), activation='relu', kernel_initializer='he_uniform', input_shape=(28, 28, 1)))\n",
        "model_2.add(MaxPooling2D((2, 2)))\n",
        "model_2.add(Conv2D(64, (2, 2), activation='relu', kernel_initializer='he_uniform', input_shape=(28, 28, 1)))\n",
        "model_2.add(MaxPooling2D((2, 2)))\n",
        "model_2.add(Flatten())\n",
        "model_2.add(Dropout(0.3))\n",
        "model_2.add(Dense(100, activation='relu', kernel_initializer='he_uniform'))\n",
        "model_2.add(Dense(10, activation='softmax'))\n",
        "\n",
        "scores , losses = Build_Model_2(model_2,train_norm ,trainY)"
      ],
      "metadata": {
        "colab": {
          "base_uri": "https://localhost:8080/"
        },
        "id": "D1QRMx6B4U0d",
        "outputId": "091352bc-8ef4-4271-90ad-d8daabf06765"
      },
      "execution_count": null,
      "outputs": [
        {
          "output_type": "stream",
          "name": "stderr",
          "text": [
            "/usr/local/lib/python3.7/dist-packages/keras/optimizer_v2/adam.py:105: UserWarning: The `lr` argument is deprecated, use `learning_rate` instead.\n",
            "  super(Adam, self).__init__(name, **kwargs)\n"
          ]
        },
        {
          "output_type": "stream",
          "name": "stdout",
          "text": [
            "accuracy: 97.867\n",
            "loss: 0.0697569\n",
            "accuracy: 98.367\n",
            "loss: 0.0554662\n",
            "accuracy: 98.442\n",
            "loss: 0.0596680\n",
            "accuracy: 98.542\n",
            "loss: 0.0524064\n",
            "accuracy: 98.158\n",
            "loss: 0.0648085\n"
          ]
        }
      ]
    },
    {
      "cell_type": "code",
      "source": [
        "model_2 = Sequential()\n",
        "model_2.add(Conv2D(64, (2, 2), activation='relu', kernel_initializer='he_uniform', input_shape=(28, 28, 1)))\n",
        "model_2.add(MaxPooling2D((2, 2)))\n",
        "model_2.add(Conv2D(64, (2, 2), activation='relu', kernel_initializer='he_uniform', input_shape=(28, 28, 1)))\n",
        "model_2.add(MaxPooling2D((2, 2)))\n",
        "model_2.add(Flatten())\n",
        "model_2.add(Dropout(0.3))\n",
        "model_2.add(Dense(100, activation='relu', kernel_initializer='he_uniform'))\n",
        "model_2.add(Dense(10, activation='softmax'))\n",
        "scores , losses = Build_Model_2(model_2,train_norm ,trainY)"
      ],
      "metadata": {
        "colab": {
          "base_uri": "https://localhost:8080/"
        },
        "id": "a7pr2UYb6jFk",
        "outputId": "7cc1f4c5-667f-4907-865f-afc4318351ca"
      },
      "execution_count": null,
      "outputs": [
        {
          "output_type": "stream",
          "name": "stderr",
          "text": [
            "/usr/local/lib/python3.7/dist-packages/keras/optimizer_v2/adam.py:105: UserWarning: The `lr` argument is deprecated, use `learning_rate` instead.\n",
            "  super(Adam, self).__init__(name, **kwargs)\n"
          ]
        },
        {
          "output_type": "stream",
          "name": "stdout",
          "text": [
            "accuracy: 98.275\n",
            "loss: 0.0561873\n",
            "accuracy: 98.875\n",
            "loss: 0.0386083\n",
            "accuracy: 99.083\n",
            "loss: 0.0329114\n",
            "accuracy: 99.158\n",
            "loss: 0.0274989\n",
            "accuracy: 99.175\n",
            "loss: 0.0283319\n"
          ]
        }
      ]
    },
    {
      "cell_type": "code",
      "source": [
        "model_2 = Sequential()\n",
        "model_2.add(Conv2D(64, (2, 2), activation='relu', kernel_initializer='he_uniform', input_shape=(28, 28, 1)))\n",
        "model_2.add(MaxPooling2D((2, 2)))\n",
        "model_2.add(Flatten())\n",
        "model_2.add(Dropout(0.3))\n",
        "model_2.add(Dense(100, activation='relu', kernel_initializer='he_uniform'))\n",
        "model_2.add(Dense(10, activation='softmax'))\n",
        "\n",
        "scores , losses = Build_Model_2(model_2,train_norm ,trainY)"
      ],
      "metadata": {
        "colab": {
          "base_uri": "https://localhost:8080/"
        },
        "id": "zmKzstxd_AOg",
        "outputId": "5d2a80bc-6dce-4314-946e-0cd709ba1e29"
      },
      "execution_count": null,
      "outputs": [
        {
          "output_type": "stream",
          "name": "stderr",
          "text": [
            "/usr/local/lib/python3.7/dist-packages/keras/optimizer_v2/adam.py:105: UserWarning: The `lr` argument is deprecated, use `learning_rate` instead.\n",
            "  super(Adam, self).__init__(name, **kwargs)\n"
          ]
        },
        {
          "output_type": "stream",
          "name": "stdout",
          "text": [
            "accuracy: 97.317\n",
            "loss: 0.1215623\n",
            "accuracy: 98.500\n",
            "loss: 0.0658872\n",
            "accuracy: 99.183\n",
            "loss: 0.0359311\n",
            "accuracy: 99.500\n",
            "loss: 0.0149898\n",
            "accuracy: 99.267\n",
            "loss: 0.0326141\n"
          ]
        }
      ]
    },
    {
      "cell_type": "markdown",
      "source": [
        "# Model 3"
      ],
      "metadata": {
        "id": "cKvvcU0BBozC"
      }
    },
    {
      "cell_type": "code",
      "source": [
        "model_3 = Sequential()\n",
        "model_3.add(Conv2D(64, (2, 2), activation='tanh', kernel_initializer='he_uniform', input_shape=(28, 28, 1)))\n",
        "model_3.add(MaxPooling2D((2, 2)))\n",
        "model_3.add(Conv2D(64, (2, 2), activation='tanh', kernel_initializer='he_uniform', input_shape=(28, 28, 1)))\n",
        "model_3.add(MaxPooling2D((2, 2)))\n",
        "model_3.add(Flatten())\n",
        "model_3.add(Dropout(0.3))\n",
        "model_3.add(Dense(100, activation='tanh', kernel_initializer='he_uniform'))\n",
        "model_3.add(Dense(10, activation='softmax'))\n",
        "\n",
        "scores , losses = Build_Model_3(model_3,train_norm ,trainY)"
      ],
      "metadata": {
        "colab": {
          "base_uri": "https://localhost:8080/"
        },
        "id": "yebBbGGeBtvq",
        "outputId": "f4580607-806e-439a-fd6c-0e05ad394393"
      },
      "execution_count": null,
      "outputs": [
        {
          "output_type": "stream",
          "name": "stderr",
          "text": [
            "/usr/local/lib/python3.7/dist-packages/keras/optimizer_v2/rmsprop.py:130: UserWarning: The `lr` argument is deprecated, use `learning_rate` instead.\n",
            "  super(RMSprop, self).__init__(name, **kwargs)\n"
          ]
        },
        {
          "output_type": "stream",
          "name": "stdout",
          "text": [
            "accuracy: 98.600\n",
            "loss: 0.0538694\n",
            "accuracy: 99.592\n",
            "loss: 0.0131574\n",
            "accuracy: 99.842\n",
            "loss: 0.0045087\n",
            "accuracy: 99.925\n",
            "loss: 0.0015018\n",
            "accuracy: 99.967\n",
            "loss: 0.0012394\n"
          ]
        }
      ]
    },
    {
      "cell_type": "code",
      "source": [
        "model_3 = Sequential()\n",
        "model_3.add(Conv2D(64, (2, 2), activation='tanh', kernel_initializer='he_uniform', input_shape=(28, 28, 1)))\n",
        "model_3.add(MaxPooling2D((2, 2)))\n",
        "model_3.add(Flatten())\n",
        "model_3.add(Dropout(0.3))\n",
        "model_3.add(Dense(100, activation='tanh', kernel_initializer='he_uniform'))\n",
        "model_3.add(Dense(10, activation='softmax'))\n",
        "\n",
        "scores , losses = Build_Model_3(model_3,train_norm ,trainY)"
      ],
      "metadata": {
        "colab": {
          "base_uri": "https://localhost:8080/"
        },
        "id": "YRJMvCh4E0_q",
        "outputId": "6bd64183-44a1-4bb4-b3e9-ff411eb838db"
      },
      "execution_count": null,
      "outputs": [
        {
          "output_type": "stream",
          "name": "stderr",
          "text": [
            "/usr/local/lib/python3.7/dist-packages/keras/optimizer_v2/rmsprop.py:130: UserWarning: The `lr` argument is deprecated, use `learning_rate` instead.\n",
            "  super(RMSprop, self).__init__(name, **kwargs)\n"
          ]
        },
        {
          "output_type": "stream",
          "name": "stdout",
          "text": [
            "accuracy: 97.908\n",
            "loss: 0.0737287\n",
            "accuracy: 99.292\n",
            "loss: 0.0227477\n",
            "accuracy: 99.675\n",
            "loss: 0.0094607\n",
            "accuracy: 99.917\n",
            "loss: 0.0023665\n",
            "accuracy: 99.942\n",
            "loss: 0.0026654\n"
          ]
        }
      ]
    },
    {
      "cell_type": "code",
      "source": [
        "model_3 = Sequential()\n",
        "model_3.add(Conv2D(64, (2, 2), activation='tanh', kernel_initializer='he_uniform', input_shape=(28, 28, 1)))\n",
        "model_3.add(MaxPooling2D((2, 2)))\n",
        "model_3.add(Conv2D(64, (2, 2), activation='tanh', kernel_initializer='he_uniform', input_shape=(28, 28, 1)))\n",
        "model_3.add(MaxPooling2D((2, 2)))\n",
        "model_3.add(Conv2D(64, (2, 2), activation='tanh', kernel_initializer='he_uniform', input_shape=(28, 28, 1)))\n",
        "model_3.add(MaxPooling2D((2, 2)))\n",
        "model_3.add(Flatten())\n",
        "model_3.add(Dropout(0.3))\n",
        "model_3.add(Dense(100, activation='tanh', kernel_initializer='he_uniform'))\n",
        "model_3.add(Dense(10, activation='softmax'))\n",
        "\n",
        "scores , losses = Build_Model_3(model_3,train_norm ,trainY)"
      ],
      "metadata": {
        "colab": {
          "base_uri": "https://localhost:8080/"
        },
        "id": "VGLHlwYDGDgQ",
        "outputId": "893b3247-941f-45d4-ea73-abf0d17844c0"
      },
      "execution_count": null,
      "outputs": [
        {
          "output_type": "stream",
          "name": "stderr",
          "text": [
            "/usr/local/lib/python3.7/dist-packages/keras/optimizer_v2/rmsprop.py:130: UserWarning: The `lr` argument is deprecated, use `learning_rate` instead.\n",
            "  super(RMSprop, self).__init__(name, **kwargs)\n"
          ]
        },
        {
          "output_type": "stream",
          "name": "stdout",
          "text": [
            "accuracy: 98.608\n",
            "loss: 0.0499678\n",
            "accuracy: 99.200\n",
            "loss: 0.0239296\n",
            "accuracy: 99.483\n",
            "loss: 0.0160271\n",
            "accuracy: 99.725\n",
            "loss: 0.0087766\n",
            "accuracy: 99.858\n",
            "loss: 0.0052837\n"
          ]
        }
      ]
    },
    {
      "cell_type": "code",
      "source": [
        "model_3 = Sequential()\n",
        "model_3.add(Conv2D(64, (2, 2), activation='sigmoid', kernel_initializer='he_uniform', input_shape=(28, 28, 1)))\n",
        "model_3.add(MaxPooling2D((2, 2)))\n",
        "model_3.add(Conv2D(64, (2, 2), activation='sigmoid', kernel_initializer='he_uniform', input_shape=(28, 28, 1)))\n",
        "model_3.add(MaxPooling2D((2, 2)))\n",
        "model_3.add(Flatten())\n",
        "model_3.add(Dropout(0.3))\n",
        "model_3.add(Dense(100, activation='sigmoid', kernel_initializer='he_uniform'))\n",
        "model_3.add(Dense(10, activation='softmax'))\n",
        "\n",
        "scores , losses = Build_Model_3(model_3,train_norm ,trainY)"
      ],
      "metadata": {
        "colab": {
          "base_uri": "https://localhost:8080/"
        },
        "id": "jjxr7B7BH7WK",
        "outputId": "289040d2-b190-44aa-c45b-e2aae721b78e"
      },
      "execution_count": null,
      "outputs": [
        {
          "output_type": "stream",
          "name": "stderr",
          "text": [
            "/usr/local/lib/python3.7/dist-packages/keras/optimizer_v2/rmsprop.py:130: UserWarning: The `lr` argument is deprecated, use `learning_rate` instead.\n",
            "  super(RMSprop, self).__init__(name, **kwargs)\n"
          ]
        },
        {
          "output_type": "stream",
          "name": "stdout",
          "text": [
            "accuracy: 98.183\n",
            "loss: 0.0633895\n",
            "accuracy: 98.883\n",
            "loss: 0.0372791\n",
            "accuracy: 99.125\n",
            "loss: 0.0264763\n",
            "accuracy: 99.500\n",
            "loss: 0.0144612\n",
            "accuracy: 99.617\n",
            "loss: 0.0129995\n"
          ]
        }
      ]
    },
    {
      "cell_type": "code",
      "source": [
        "model_3 = Sequential()\n",
        "model_3.add(Conv2D(64, (2, 2), activation='relu', kernel_initializer='he_uniform', input_shape=(28, 28, 1)))\n",
        "model_3.add(MaxPooling2D((2, 2)))\n",
        "model_3.add(Conv2D(64, (2, 2), activation='relu', kernel_initializer='he_uniform', input_shape=(28, 28, 1)))\n",
        "model_3.add(MaxPooling2D((2, 2)))\n",
        "model_3.add(Flatten())\n",
        "model_3.add(Dropout(0.3))\n",
        "model_3.add(Dense(100, activation='relu', kernel_initializer='he_uniform'))\n",
        "model_3.add(Dense(10, activation='softmax'))\n",
        "\n",
        "scores , losses = Build_Model_3(model_3,train_norm ,trainY)"
      ],
      "metadata": {
        "colab": {
          "base_uri": "https://localhost:8080/"
        },
        "id": "eA_vOdGpJev3",
        "outputId": "29dcd122-4db9-40e0-e87c-afbe0c7368ed"
      },
      "execution_count": null,
      "outputs": [
        {
          "output_type": "stream",
          "name": "stderr",
          "text": [
            "/usr/local/lib/python3.7/dist-packages/keras/optimizer_v2/rmsprop.py:130: UserWarning: The `lr` argument is deprecated, use `learning_rate` instead.\n",
            "  super(RMSprop, self).__init__(name, **kwargs)\n"
          ]
        },
        {
          "output_type": "stream",
          "name": "stdout",
          "text": [
            "accuracy: 98.867\n",
            "loss: 0.0502256\n",
            "accuracy: 99.483\n",
            "loss: 0.0187512\n",
            "accuracy: 99.825\n",
            "loss: 0.0074756\n",
            "accuracy: 99.917\n",
            "loss: 0.0022337\n",
            "accuracy: 99.908\n",
            "loss: 0.0038617\n"
          ]
        }
      ]
    }
  ]
}